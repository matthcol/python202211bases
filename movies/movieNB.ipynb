{
 "cells": [
  {
   "cell_type": "markdown",
   "id": "50a02a3a-ab76-41a9-9aa8-2ce553e3bc6f",
   "metadata": {},
   "source": [
    "# Access Relational DB\n",
    "- model: relational algebra\n",
    "- standard SQL\n",
    "- editor: PostgreSQL, MySQL/MariaDB, SQL Server, Oracle DB"
   ]
  },
  {
   "cell_type": "code",
   "execution_count": 2,
   "id": "337ef74a-a422-4757-8770-4fb8b30f6ba6",
   "metadata": {},
   "outputs": [],
   "source": [
    "import psycopg2 as pg"
   ]
  },
  {
   "cell_type": "code",
   "execution_count": 1,
   "id": "4132d84d-c48e-4a0f-b7ed-57bca1a9a0d4",
   "metadata": {},
   "outputs": [],
   "source": [
    "host = \"10.31.70.139\"\n",
    "port = 5432\n",
    "dbname = \"dbmovie\"\n",
    "user = \"movie\"\n",
    "password = \"password\""
   ]
  },
  {
   "cell_type": "code",
   "execution_count": 3,
   "id": "e0176212-f5d7-42a4-94f3-7bdef9bc6aab",
   "metadata": {},
   "outputs": [],
   "source": [
    "# postgresql://someone@example.com/somedb\n",
    "url = f\"postgresql://{host}:{port}/{dbname}\""
   ]
  },
  {
   "cell_type": "code",
   "execution_count": 4,
   "id": "37e6bfaa-4d18-407e-bacb-c13092243f6a",
   "metadata": {},
   "outputs": [],
   "source": [
    "conn = pg.connect(url, user=user, password=password)"
   ]
  },
  {
   "cell_type": "code",
   "execution_count": 5,
   "id": "3c0aa3c4-da02-405c-be22-952e66a94d1b",
   "metadata": {},
   "outputs": [
    {
     "data": {
      "text/plain": [
       "<connection object at 0x0000022CD1117BF0; dsn: 'user=movie password=xxx dbname=dbmovie host=10.31.70.139 port=5432', closed: 0>"
      ]
     },
     "execution_count": 5,
     "metadata": {},
     "output_type": "execute_result"
    }
   ],
   "source": [
    "conn"
   ]
  },
  {
   "cell_type": "code",
   "execution_count": 6,
   "id": "38ad376c-cf03-44a2-85e2-5a15aa129be0",
   "metadata": {},
   "outputs": [],
   "source": [
    "query_all_movies = \"select * from movies\""
   ]
  },
  {
   "cell_type": "code",
   "execution_count": 7,
   "id": "cfd85100-f0ef-46d2-8571-2b6f0740eb72",
   "metadata": {},
   "outputs": [],
   "source": [
    "cur = conn.cursor()"
   ]
  },
  {
   "cell_type": "code",
   "execution_count": 9,
   "id": "1d675072-a18e-4dd8-98fa-4769830b3b81",
   "metadata": {},
   "outputs": [],
   "source": [
    "cur.execute(query_all_movies)"
   ]
  },
  {
   "cell_type": "code",
   "execution_count": 10,
   "id": "b14696b5-56cb-4f31-8c76-0e6ee9cd0170",
   "metadata": {},
   "outputs": [
    {
     "data": {
      "text/plain": [
       "[(5257,\n",
       "  'Excuse Me',\n",
       "  1915,\n",
       "  50,\n",
       "  'Henry Mallory, U.S.A., receives orders to join his regiment which is to embark for the Philippines. The Overland Limited is the only train that will enable him to reach the coast in time to escape a court-martial. Having a little time to spare he persuades Marjorie to elope with him and reserves two berths. They reach the train in time, but haven\\'t time to get married. \"Little\" Jimmy Wellington, who stands six feet two and weighs 350 in his stocking feet, guzzles too much, so his wife takes the Overland for Reno, telling him she goes to Paris for the year. He gets sore and takes the same train for the same place and for the same purpose. The Reverend Doctor Temple, tiring of the Monotony of Ypsilanti elopes and takes the Overland to the coast. There is another girl aboard, a former sweetheart of Mallory\\'s. With this cargo in charge of a worthy porter, they start. The happenings en route are screamingly funny. Marjorie, not married to Mallory, has her reputation at stake. Dr. Temple knows this, but won\\'t let anyone know that he\\'s a preacher of the gospel. Wellington and his wife fail to meet because he\\'s too busy pestering the men folks and she puffing cigars. Then the other girl pesters Marjorie and Mallory with a bracelet she received from Mallory, and so everyone does something that had been better left undone, and the porter must bear the brunt of it all. A hold-up relieves the girl of the bracelet and the arrival of the Mormon minister when they get to Utah frightens Temple into practicing his profession of the young couple. Then a cinder in Wellington\\'s eye causes him to meet his wife who relieves him of it, and they patch up their differences. With everything running smoothly, we leave them to continue their journeys.',\n",
       "  'https://m.media-amazon.com/images/M/MV5BMmVmMGE0ZTYtZWEwNC00ODFlLTg3YTQtNTA0ZGQ4MmY2YTE0XkEyXkFqcGdeQXVyMDUyOTUyNQ@@._V1_SY150_CR46,0,101,150_.jpg',\n",
       "  None,\n",
       "  'R',\n",
       "  767303),\n",
       " (6366,\n",
       "  'Anton the Terrible',\n",
       "  1916,\n",
       "  50,\n",
       "  'Presumably, the first woman ever to appear in a Kinetoscope film and possibly the first woman to take part in a motion picture in the United States, the Spaniard dancer, Carmencita, performs her appealing high-kick dance in front of the camera of William K.L. Dickson and William Heise, for Thomas Edison. In this segment of her New York music-hall act, she spins and twirls, exhibiting an admirable talent, a fashionable dress, and a really charming smile.',\n",
       "  'https://m.media-amazon.com/images/M/MV5BMWZiZjczOTAtNzg5ZC00MTM0LTliZjQtY2NhZjlhN2VkYmI2XkEyXkFqcGdeQXVyMjUxODE0MDY@._V1_SY150_CR5,0,101,150_.jpg',\n",
       "  None,\n",
       "  'R',\n",
       "  210352),\n",
       " (8351,\n",
       "  'The Mysterious Mrs. Musslewhite',\n",
       "  1917,\n",
       "  50,\n",
       "  'Raymond Van Seer, wealthy, has become morose and dissatisfied with life. His mental mood has worried his friends and when his true condition of mind is disclosed by the discovery that he is reading a book entitled \"Famous Suicides,\" action becomes necessary. One of Van Seer\\'s club friends has recently visited a fortune teller, known as \"The Mysterious Mrs. M.,\" and relates his experiences to Van Seer. As a result of the combined urgings of his friends, Van Seer visits the sorceress. When she tells Van Seer that on a given date be will meet with a painful accident while out of doors, Van Seer hopes to thwart whatever truth there may be in her prognostication by remaining indoors, at his club, all day. Despite the invitations of his friends to venture forth, Van Seer sticks within his room until late in the afternoon, fire is discovered in the clubhouse and, with the other occupants, Van Seer rushes forth. Just as he is crossing the threshold, he trips, falls headlong to the sidewalk and breaks his wrist. He will have none of the attentions offered by the club physician, but takes his machine and rides to his country seat, where he submits his broken wrist to the treatment of Dr. Woodman, the family physician. Prompted by a desire to further test the abilities of the seeress, Van Seer again visits \"The Mysterious Mrs. M.\" She informs him that on a certain date, still three months away, he is to die suddenly. As a token of his disbelief Van Seer gives her an order on his executor to pay her an immense sum of money if he shall die in accord with Mrs. Musselwhite\\'s prophecy. The fortune teller hands him back the order, stating that his money will do her no good as she is herself going to die within a week. Van Seer bribes the fortune teller\\'s butler to keep him advised of Mrs. Musselwhite\\'s health. On the day the woman has set for her death, the butler calls Van Seer to the phone and informs him that Mrs. Musselwhite has died. Being now thoroughly convinced of the woman\\'s ability Van Seer contemplates the likelihood of his own death as specified, but now he wants to live. Dr. Woodman\\'s daughter, Phyllis, has come home from college. Van Seer has fallen in love with her, but believing that his day of death is fixed by fate he refrains from advancing his own cause while all the time Phyllis is in love with him. So matters continue until Van Seer\\'s last day on earth. He spends the hours alone, locked in his library, watching the hands of the clock approach the hour of midnight. When at last the hour of midnight arrives and passes with Van Seer still alive he is suddenly aroused to the realities of life by having his club friends burst in upon him with a letter from \"The Mysterious Mrs. M.\" She has, all along, acted in the employ of Van Seer\\'s club friends and has prognosticated and acted along previously decided lines. Rejoicing in his good health, good fortune and the love of Phyllis, there is the happy ending of Van Seer\\'s romance of life and death.',\n",
       "  'https://m.media-amazon.com/images/M/MV5BMTA0NjAxMTIzMzheQTJeQWpwZ15BbWU4MDQ2NDYyNTQx._V1_SY150_CR2,0,101,150_.jpg',\n",
       "  None,\n",
       "  'R',\n",
       "  916665)]"
      ]
     },
     "execution_count": 10,
     "metadata": {},
     "output_type": "execute_result"
    }
   ],
   "source": [
    "# cursor is iterable\n",
    "movies = list(cur)\n",
    "movies[:3]"
   ]
  },
  {
   "cell_type": "code",
   "execution_count": 11,
   "id": "625afe4d-fe22-4602-adf8-ef852b70a31e",
   "metadata": {},
   "outputs": [],
   "source": [
    "cur.close()\n",
    "conn.close()"
   ]
  }
 ],
 "metadata": {
  "kernelspec": {
   "display_name": "Python 3 (ipykernel)",
   "language": "python",
   "name": "python3"
  },
  "language_info": {
   "codemirror_mode": {
    "name": "ipython",
    "version": 3
   },
   "file_extension": ".py",
   "mimetype": "text/x-python",
   "name": "python",
   "nbconvert_exporter": "python",
   "pygments_lexer": "ipython3",
   "version": "3.9.12"
  }
 },
 "nbformat": 4,
 "nbformat_minor": 5
}
