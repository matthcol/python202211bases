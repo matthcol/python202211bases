{
 "cells": [
  {
   "cell_type": "code",
   "execution_count": 49,
   "id": "0154ab50-3dfb-4a68-8b1d-06b849b107e4",
   "metadata": {},
   "outputs": [],
   "source": [
    "from pathlib import Path\n",
    "from datetime import datetime, date, time, timedelta\n",
    "import shutil"
   ]
  },
  {
   "cell_type": "code",
   "execution_count": 3,
   "id": "cbc4d8fb-e681-4909-82e9-602e6de7ae84",
   "metadata": {},
   "outputs": [
    {
     "data": {
      "text/plain": [
       "WindowsPath('.')"
      ]
     },
     "execution_count": 3,
     "metadata": {},
     "output_type": "execute_result"
    }
   ],
   "source": [
    "d = Path('.')\n",
    "d"
   ]
  },
  {
   "cell_type": "code",
   "execution_count": 6,
   "id": "3c4a25ca-f173-4972-89c8-168af2314e06",
   "metadata": {},
   "outputs": [
    {
     "data": {
      "text/plain": [
       "WindowsPath('C:/Users/Matthias/Documents/Formations/Python/Stage20221128')"
      ]
     },
     "execution_count": 6,
     "metadata": {},
     "output_type": "execute_result"
    }
   ],
   "source": [
    "currentDirAbsolute = d.absolute()\n",
    "currentDirAbsolute"
   ]
  },
  {
   "cell_type": "code",
   "execution_count": 7,
   "id": "089aeece-dc51-42b8-b95f-48b4005fb5c0",
   "metadata": {},
   "outputs": [
    {
     "data": {
      "text/plain": [
       "WindowsPath('C:/Users/Matthias/Documents/Formations/Python')"
      ]
     },
     "execution_count": 7,
     "metadata": {},
     "output_type": "execute_result"
    }
   ],
   "source": [
    "currentDirAbsolute.parent"
   ]
  },
  {
   "cell_type": "code",
   "execution_count": 8,
   "id": "4e728987-da31-4309-a6d2-5e5192be912f",
   "metadata": {},
   "outputs": [
    {
     "name": "stdout",
     "output_type": "stream",
     "text": [
      "C:\\Users\\Matthias\\Documents\\Formations\\Python\n",
      "C:\\Users\\Matthias\\Documents\\Formations\n",
      "C:\\Users\\Matthias\\Documents\n",
      "C:\\Users\\Matthias\n",
      "C:\\Users\n",
      "C:\\\n"
     ]
    }
   ],
   "source": [
    "for p in currentDirAbsolute.parents:\n",
    "    print(p)"
   ]
  },
  {
   "cell_type": "code",
   "execution_count": 9,
   "id": "90d49cbc-a539-4a3b-98da-6921d4be43b6",
   "metadata": {},
   "outputs": [
    {
     "data": {
      "text/plain": [
       "WindowsPath('C:/Users/Matthias/Documents/Formations/Python/Stage20221128/data')"
      ]
     },
     "execution_count": 9,
     "metadata": {},
     "output_type": "execute_result"
    }
   ],
   "source": [
    "dataDir = currentDirAbsolute / 'data'\n",
    "dataDir"
   ]
  },
  {
   "cell_type": "code",
   "execution_count": 14,
   "id": "e9230b37-25e0-4e52-9a41-05ea15d4c56b",
   "metadata": {},
   "outputs": [
    {
     "name": "stdout",
     "output_type": "stream",
     "text": [
      "Path exists ? : True\n",
      "Path is a directory : True\n",
      "Path is a (regular) file : False\n"
     ]
    }
   ],
   "source": [
    "print(\"Path exists ? :\", dataDir.exists())\n",
    "print(\"Path is a directory :\", dataDir.is_dir())\n",
    "print(\"Path is a (regular) file :\", dataDir.is_file())"
   ]
  },
  {
   "cell_type": "code",
   "execution_count": 23,
   "id": "97066682-17b4-4112-bafd-24e24fe553da",
   "metadata": {},
   "outputs": [],
   "source": [
    "cultureDir = dataDir / \"culture\" / \"concert\"\n",
    "# if not cultureDir.exists():\n",
    "cultureDir.mkdir(parents=True, exist_ok=True)"
   ]
  },
  {
   "cell_type": "code",
   "execution_count": 48,
   "id": "7c8d523c-14cf-405b-b955-cf0f2effa3f1",
   "metadata": {
    "tags": []
   },
   "outputs": [
    {
     "name": "stdout",
     "output_type": "stream",
     "text": [
      "basics.py\n",
      "WindowsPath('basics.py')\n",
      "\n",
      "compute_builtins.py\n",
      "WindowsPath('compute_builtins.py')\n",
      "\n",
      "control_flow.py\n",
      "WindowsPath('control_flow.py')\n",
      "\n",
      "demo_files.py\n",
      "WindowsPath('demo_files.py')\n",
      "\n",
      "demo_slices.py\n",
      "WindowsPath('demo_slices.py')\n",
      "\n",
      "euclide.py\n",
      "WindowsPath('euclide.py')\n",
      "\n",
      "euclideOrganigram.py\n",
      "WindowsPath('euclideOrganigram.py')\n",
      "\n",
      "euclideOrigin.py\n",
      "WindowsPath('euclideOrigin.py')\n",
      "\n",
      "scientific_demo.py\n",
      "WindowsPath('scientific_demo.py')\n",
      "\n",
      "test_euclide.py\n",
      "WindowsPath('test_euclide.py')\n",
      "\n",
      "test_euclide2.py\n",
      "WindowsPath('test_euclide2.py')\n",
      "\n",
      "squaremagic\\magicsquare.py\n",
      "WindowsPath('squaremagic/magicsquare.py')\n",
      "\n",
      "squaremagic\\test_magicsquare.py\n",
      "WindowsPath('squaremagic/test_magicsquare.py')\n",
      "\n"
     ]
    }
   ],
   "source": [
    "# d.iter_dir => explore all files and sub-directories, ...\n",
    "for f in d.glob('**/*.py'):\n",
    "    # print(f) # use str()\n",
    "    print(str(f))\n",
    "    print(repr(f))\n",
    "    print()"
   ]
  },
  {
   "cell_type": "code",
   "execution_count": 46,
   "id": "7def1f6c-4485-4ea0-97c6-0a1915054b99",
   "metadata": {},
   "outputs": [
    {
     "name": "stdout",
     "output_type": "stream",
     "text": [
      "squaremagic\\test_magicsquare.py\n",
      "os.stat_result(st_mode=33206, st_ino=10414574138447600, st_dev=3053894559, st_nlink=1, st_uid=0, st_gid=0, st_size=2592, st_atime=1669815593, st_mtime=1669737851, st_ctime=1669726923)\n",
      "2592\n",
      "2022-11-29 17:04:11.702085\n",
      "29/11/2022 17:04:11\n"
     ]
    }
   ],
   "source": [
    "print(f)\n",
    "stats = f.stat()\n",
    "print(stats)\n",
    "print(stats.st_size)\n",
    "datetime_last_modified = datetime.fromtimestamp(stats.st_mtime)\n",
    "print(datetime_last_modified) # ISO format\n",
    "print(f\"{datetime_last_modified:%d/%m/%Y %H:%M:%S}\")"
   ]
  },
  {
   "cell_type": "code",
   "execution_count": 40,
   "id": "7084cd56-edd5-4ccd-8ba2-d1c558c7c4ef",
   "metadata": {},
   "outputs": [
    {
     "data": {
      "text/plain": [
       "datetime.datetime(2022, 11, 29, 17, 4, 11, 702085)"
      ]
     },
     "execution_count": 40,
     "metadata": {},
     "output_type": "execute_result"
    }
   ],
   "source": [
    "datetime.fromtimestamp(stats.st_mtime)"
   ]
  },
  {
   "cell_type": "code",
   "execution_count": 51,
   "id": "9eb02066-a5e4-4098-8219-c0b0dad3e67f",
   "metadata": {},
   "outputs": [
    {
     "data": {
      "text/plain": [
       "WindowsPath('C:/Users/Matthias/Documents/Formations/Python/Stage20221128/data/culture/concert/cafes-concerts.csv')"
      ]
     },
     "execution_count": 51,
     "metadata": {},
     "output_type": "execute_result"
    }
   ],
   "source": [
    "data_in = dataDir / \"cafes-concerts.csv\"\n",
    "data_out = cultureDir / data_in.name\n",
    "shutil.copy(data_in, data_out)"
   ]
  },
  {
   "cell_type": "code",
   "execution_count": 53,
   "id": "15cb5455-9c89-47ed-86d9-853ea4478eac",
   "metadata": {},
   "outputs": [
    {
     "data": {
      "text/plain": [
       "WindowsPath('C:/Users/Matthias/Documents/Formations/Python/Stage20221128/data/culture/cafes-concerts.csv')"
      ]
     },
     "execution_count": 53,
     "metadata": {},
     "output_type": "execute_result"
    }
   ],
   "source": [
    "data_out_new = data_out.parent.parent / data_out.name\n",
    "data_out.rename(data_out_new)"
   ]
  },
  {
   "cell_type": "code",
   "execution_count": 54,
   "id": "8aaa94dd-f550-48ae-a116-501c10000ec7",
   "metadata": {},
   "outputs": [],
   "source": [
    "data_out_new.unlink()"
   ]
  }
 ],
 "metadata": {
  "kernelspec": {
   "display_name": "Python 3 (ipykernel)",
   "language": "python",
   "name": "python3"
  },
  "language_info": {
   "codemirror_mode": {
    "name": "ipython",
    "version": 3
   },
   "file_extension": ".py",
   "mimetype": "text/x-python",
   "name": "python",
   "nbconvert_exporter": "python",
   "pygments_lexer": "ipython3",
   "version": "3.9.12"
  }
 },
 "nbformat": 4,
 "nbformat_minor": 5
}
