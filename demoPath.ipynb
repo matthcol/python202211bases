{
 "cells": [
  {
   "cell_type": "code",
   "execution_count": 68,
   "id": "0154ab50-3dfb-4a68-8b1d-06b849b107e4",
   "metadata": {},
   "outputs": [],
   "source": [
    "from pathlib import Path\n",
    "from datetime import datetime, date, time, timedelta\n",
    "import shutil\n",
    "import pandas as pd\n",
    "import itertools as it"
   ]
  },
  {
   "cell_type": "code",
   "execution_count": 3,
   "id": "cbc4d8fb-e681-4909-82e9-602e6de7ae84",
   "metadata": {},
   "outputs": [
    {
     "data": {
      "text/plain": [
       "WindowsPath('.')"
      ]
     },
     "execution_count": 3,
     "metadata": {},
     "output_type": "execute_result"
    }
   ],
   "source": [
    "d = Path('.')\n",
    "d"
   ]
  },
  {
   "cell_type": "code",
   "execution_count": 6,
   "id": "3c4a25ca-f173-4972-89c8-168af2314e06",
   "metadata": {},
   "outputs": [
    {
     "data": {
      "text/plain": [
       "WindowsPath('C:/Users/Matthias/Documents/Formations/Python/Stage20221128')"
      ]
     },
     "execution_count": 6,
     "metadata": {},
     "output_type": "execute_result"
    }
   ],
   "source": [
    "currentDirAbsolute = d.absolute()\n",
    "currentDirAbsolute"
   ]
  },
  {
   "cell_type": "code",
   "execution_count": 7,
   "id": "089aeece-dc51-42b8-b95f-48b4005fb5c0",
   "metadata": {},
   "outputs": [
    {
     "data": {
      "text/plain": [
       "WindowsPath('C:/Users/Matthias/Documents/Formations/Python')"
      ]
     },
     "execution_count": 7,
     "metadata": {},
     "output_type": "execute_result"
    }
   ],
   "source": [
    "currentDirAbsolute.parent"
   ]
  },
  {
   "cell_type": "code",
   "execution_count": 71,
   "id": "4e728987-da31-4309-a6d2-5e5192be912f",
   "metadata": {},
   "outputs": [
    {
     "name": "stdout",
     "output_type": "stream",
     "text": [
      "C:\\Users\\Matthias\\Documents\\Formations\\Python\n",
      "C:\\Users\\Matthias\\Documents\\Formations\n",
      "C:\\Users\\Matthias\\Documents\n",
      "C:\\Users\\Matthias\n",
      "C:\\Users\n",
      "C:\\\n"
     ]
    }
   ],
   "source": [
    "for p in currentDirAbsolute.parents:\n",
    "    print(p)"
   ]
  },
  {
   "cell_type": "code",
   "execution_count": 9,
   "id": "90d49cbc-a539-4a3b-98da-6921d4be43b6",
   "metadata": {},
   "outputs": [
    {
     "data": {
      "text/plain": [
       "WindowsPath('C:/Users/Matthias/Documents/Formations/Python/Stage20221128/data')"
      ]
     },
     "execution_count": 9,
     "metadata": {},
     "output_type": "execute_result"
    }
   ],
   "source": [
    "dataDir = currentDirAbsolute / 'data'\n",
    "dataDir"
   ]
  },
  {
   "cell_type": "code",
   "execution_count": 14,
   "id": "e9230b37-25e0-4e52-9a41-05ea15d4c56b",
   "metadata": {},
   "outputs": [
    {
     "name": "stdout",
     "output_type": "stream",
     "text": [
      "Path exists ? : True\n",
      "Path is a directory : True\n",
      "Path is a (regular) file : False\n"
     ]
    }
   ],
   "source": [
    "print(\"Path exists ? :\", dataDir.exists())\n",
    "print(\"Path is a directory :\", dataDir.is_dir())\n",
    "print(\"Path is a (regular) file :\", dataDir.is_file())"
   ]
  },
  {
   "cell_type": "code",
   "execution_count": 23,
   "id": "97066682-17b4-4112-bafd-24e24fe553da",
   "metadata": {},
   "outputs": [],
   "source": [
    "cultureDir = dataDir / \"culture\" / \"concert\"\n",
    "# if not cultureDir.exists():\n",
    "cultureDir.mkdir(parents=True, exist_ok=True)"
   ]
  },
  {
   "cell_type": "code",
   "execution_count": 48,
   "id": "7c8d523c-14cf-405b-b955-cf0f2effa3f1",
   "metadata": {
    "tags": []
   },
   "outputs": [
    {
     "name": "stdout",
     "output_type": "stream",
     "text": [
      "basics.py\n",
      "WindowsPath('basics.py')\n",
      "\n",
      "compute_builtins.py\n",
      "WindowsPath('compute_builtins.py')\n",
      "\n",
      "control_flow.py\n",
      "WindowsPath('control_flow.py')\n",
      "\n",
      "demo_files.py\n",
      "WindowsPath('demo_files.py')\n",
      "\n",
      "demo_slices.py\n",
      "WindowsPath('demo_slices.py')\n",
      "\n",
      "euclide.py\n",
      "WindowsPath('euclide.py')\n",
      "\n",
      "euclideOrganigram.py\n",
      "WindowsPath('euclideOrganigram.py')\n",
      "\n",
      "euclideOrigin.py\n",
      "WindowsPath('euclideOrigin.py')\n",
      "\n",
      "scientific_demo.py\n",
      "WindowsPath('scientific_demo.py')\n",
      "\n",
      "test_euclide.py\n",
      "WindowsPath('test_euclide.py')\n",
      "\n",
      "test_euclide2.py\n",
      "WindowsPath('test_euclide2.py')\n",
      "\n",
      "squaremagic\\magicsquare.py\n",
      "WindowsPath('squaremagic/magicsquare.py')\n",
      "\n",
      "squaremagic\\test_magicsquare.py\n",
      "WindowsPath('squaremagic/test_magicsquare.py')\n",
      "\n"
     ]
    }
   ],
   "source": [
    "# d.iter_dir => explore all files and sub-directories, ...\n",
    "for f in d.glob('**/*.py'):\n",
    "    # print(f) # use str()\n",
    "    print(str(f))\n",
    "    print(repr(f))\n",
    "    print()"
   ]
  },
  {
   "cell_type": "code",
   "execution_count": 46,
   "id": "7def1f6c-4485-4ea0-97c6-0a1915054b99",
   "metadata": {},
   "outputs": [
    {
     "name": "stdout",
     "output_type": "stream",
     "text": [
      "squaremagic\\test_magicsquare.py\n",
      "os.stat_result(st_mode=33206, st_ino=10414574138447600, st_dev=3053894559, st_nlink=1, st_uid=0, st_gid=0, st_size=2592, st_atime=1669815593, st_mtime=1669737851, st_ctime=1669726923)\n",
      "2592\n",
      "2022-11-29 17:04:11.702085\n",
      "29/11/2022 17:04:11\n"
     ]
    }
   ],
   "source": [
    "print(f)\n",
    "stats = f.stat()\n",
    "print(stats)\n",
    "print(stats.st_size)\n",
    "datetime_last_modified = datetime.fromtimestamp(stats.st_mtime)\n",
    "print(datetime_last_modified) # ISO format\n",
    "print(f\"{datetime_last_modified:%d/%m/%Y %H:%M:%S}\")"
   ]
  },
  {
   "cell_type": "code",
   "execution_count": 40,
   "id": "7084cd56-edd5-4ccd-8ba2-d1c558c7c4ef",
   "metadata": {},
   "outputs": [
    {
     "data": {
      "text/plain": [
       "datetime.datetime(2022, 11, 29, 17, 4, 11, 702085)"
      ]
     },
     "execution_count": 40,
     "metadata": {},
     "output_type": "execute_result"
    }
   ],
   "source": [
    "datetime.fromtimestamp(stats.st_mtime)"
   ]
  },
  {
   "cell_type": "code",
   "execution_count": 51,
   "id": "9eb02066-a5e4-4098-8219-c0b0dad3e67f",
   "metadata": {},
   "outputs": [
    {
     "data": {
      "text/plain": [
       "WindowsPath('C:/Users/Matthias/Documents/Formations/Python/Stage20221128/data/culture/concert/cafes-concerts.csv')"
      ]
     },
     "execution_count": 51,
     "metadata": {},
     "output_type": "execute_result"
    }
   ],
   "source": [
    "# Copy du fichier CSV\n",
    "data_in = dataDir / \"cafes-concerts.csv\"\n",
    "data_out = cultureDir / data_in.name\n",
    "shutil.copy(data_in, data_out)"
   ]
  },
  {
   "cell_type": "code",
   "execution_count": 53,
   "id": "15cb5455-9c89-47ed-86d9-853ea4478eac",
   "metadata": {},
   "outputs": [
    {
     "data": {
      "text/plain": [
       "WindowsPath('C:/Users/Matthias/Documents/Formations/Python/Stage20221128/data/culture/cafes-concerts.csv')"
      ]
     },
     "execution_count": 53,
     "metadata": {},
     "output_type": "execute_result"
    }
   ],
   "source": [
    "data_out_new = data_out.parent.parent / data_out.name\n",
    "data_out.rename(data_out_new)"
   ]
  },
  {
   "cell_type": "code",
   "execution_count": 54,
   "id": "8aaa94dd-f550-48ae-a116-501c10000ec7",
   "metadata": {},
   "outputs": [],
   "source": [
    "data_out_new.unlink()"
   ]
  },
  {
   "cell_type": "code",
   "execution_count": 58,
   "id": "dd31037c-8ec8-41a0-a0e8-265d353ef6a1",
   "metadata": {},
   "outputs": [
    {
     "name": "stdout",
     "output_type": "stream",
     "text": [
      "C:\\Users\\Matthias\\Documents\\Formations\\Python\\Stage20221128\n",
      "C:\\Users\\Matthias\\Documents\\Formations\\Python\\Stage20221128\n"
     ]
    }
   ],
   "source": [
    "# Warning hazardous\n",
    "# d2 = Path('C:\\Users\\Matthias\\Documents\\Formations\\Python\\Stage20221128')\n",
    "d2 = Path('C:/Users/Matthias/Documents/Formations/Python/Stage20221128')\n",
    "d3 = Path('C:\\\\Users\\\\Matthias\\\\Documents\\\\Formations\\\\Python\\\\Stage20221128')\n",
    "print(d2)\n",
    "print(d3)"
   ]
  },
  {
   "cell_type": "code",
   "execution_count": 60,
   "id": "e714d8c4-cd7d-4223-8073-66b87c784437",
   "metadata": {},
   "outputs": [
    {
     "data": {
      "text/html": [
       "<div>\n",
       "<style scoped>\n",
       "    .dataframe tbody tr th:only-of-type {\n",
       "        vertical-align: middle;\n",
       "    }\n",
       "\n",
       "    .dataframe tbody tr th {\n",
       "        vertical-align: top;\n",
       "    }\n",
       "\n",
       "    .dataframe thead th {\n",
       "        text-align: right;\n",
       "    }\n",
       "</style>\n",
       "<table border=\"1\" class=\"dataframe\">\n",
       "  <thead>\n",
       "    <tr style=\"text-align: right;\">\n",
       "      <th></th>\n",
       "      <th>Geo Point</th>\n",
       "      <th>Geo Shape</th>\n",
       "      <th>nom_equipement</th>\n",
       "      <th>eq_gestionnaire</th>\n",
       "      <th>eq_téléphone</th>\n",
       "      <th>numero</th>\n",
       "      <th>lib_off</th>\n",
       "      <th>id_secteur_postal</th>\n",
       "      <th>eq_ville</th>\n",
       "      <th>eq_secteur</th>\n",
       "      <th>eq_quartier</th>\n",
       "      <th>eq_site_web</th>\n",
       "    </tr>\n",
       "  </thead>\n",
       "  <tbody>\n",
       "    <tr>\n",
       "      <th>0</th>\n",
       "      <td>43.55705720244656,1.4194470287619534</td>\n",
       "      <td>{\"coordinates\": [[1.419447028761953, 43.557057...</td>\n",
       "      <td>GARE AUX MORILLES</td>\n",
       "      <td>Structure commerciale</td>\n",
       "      <td>05 61 72 19 40</td>\n",
       "      <td>7.0</td>\n",
       "      <td>CHE DES SILOS</td>\n",
       "      <td>31100</td>\n",
       "      <td>TOULOUSE</td>\n",
       "      <td>2</td>\n",
       "      <td>2.2</td>\n",
       "      <td>http://www.gareauxmorilles.com</td>\n",
       "    </tr>\n",
       "    <tr>\n",
       "      <th>1</th>\n",
       "      <td>43.59822030462972,1.434274004528577</td>\n",
       "      <td>{\"coordinates\": [[1.434274004528577, 43.598220...</td>\n",
       "      <td>LE CARSON CITY</td>\n",
       "      <td>Structure commerciale</td>\n",
       "      <td>05 61 42 02 22</td>\n",
       "      <td>3.0</td>\n",
       "      <td>PL OLIVIER</td>\n",
       "      <td>31300</td>\n",
       "      <td>TOULOUSE</td>\n",
       "      <td>2</td>\n",
       "      <td>2.1</td>\n",
       "      <td>http://www.restaurant-carsoncity.com</td>\n",
       "    </tr>\n",
       "  </tbody>\n",
       "</table>\n",
       "</div>"
      ],
      "text/plain": [
       "                              Geo Point  \\\n",
       "0  43.55705720244656,1.4194470287619534   \n",
       "1   43.59822030462972,1.434274004528577   \n",
       "\n",
       "                                           Geo Shape     nom_equipement  \\\n",
       "0  {\"coordinates\": [[1.419447028761953, 43.557057...  GARE AUX MORILLES   \n",
       "1  {\"coordinates\": [[1.434274004528577, 43.598220...     LE CARSON CITY   \n",
       "\n",
       "         eq_gestionnaire    eq_téléphone  numero        lib_off  \\\n",
       "0  Structure commerciale  05 61 72 19 40     7.0  CHE DES SILOS   \n",
       "1  Structure commerciale  05 61 42 02 22     3.0     PL OLIVIER   \n",
       "\n",
       "   id_secteur_postal  eq_ville  eq_secteur  eq_quartier  \\\n",
       "0              31100  TOULOUSE           2          2.2   \n",
       "1              31300  TOULOUSE           2          2.1   \n",
       "\n",
       "                            eq_site_web  \n",
       "0        http://www.gareauxmorilles.com  \n",
       "1  http://www.restaurant-carsoncity.com  "
      ]
     },
     "execution_count": 60,
     "metadata": {},
     "output_type": "execute_result"
    }
   ],
   "source": [
    "df = pd.read_csv(data_in, sep=';',encoding='UTF-8')\n",
    "df.head(2)"
   ]
  },
  {
   "cell_type": "code",
   "execution_count": 61,
   "id": "4e0e1153-e9d0-4125-9314-ef053cc06569",
   "metadata": {},
   "outputs": [],
   "source": [
    "df.to_csv(data_out_new, encoding='CP1252')"
   ]
  },
  {
   "cell_type": "markdown",
   "id": "568a274c-a061-46ad-bac7-5a8be9a3cf5b",
   "metadata": {},
   "source": [
    "## Atelier\n",
    "- Lister les fichiers python et notebook depuis le début de la semaine\n",
    "- Faire un tableau pandas avec taille et date de modification\n",
    "- Stats par jour: nb de fichiers, taille totale"
   ]
  },
  {
   "cell_type": "markdown",
   "id": "84a65ce6-41e2-4d92-9eee-f5f1a9a2910a",
   "metadata": {},
   "source": [
    "#### NB: how to make a DataFrame from python data"
   ]
  },
  {
   "cell_type": "code",
   "execution_count": 65,
   "id": "59b2da69-e347-4f66-9dd5-e89b60f91a19",
   "metadata": {},
   "outputs": [
    {
     "data": {
      "text/html": [
       "<div>\n",
       "<style scoped>\n",
       "    .dataframe tbody tr th:only-of-type {\n",
       "        vertical-align: middle;\n",
       "    }\n",
       "\n",
       "    .dataframe tbody tr th {\n",
       "        vertical-align: top;\n",
       "    }\n",
       "\n",
       "    .dataframe thead th {\n",
       "        text-align: right;\n",
       "    }\n",
       "</style>\n",
       "<table border=\"1\" class=\"dataframe\">\n",
       "  <thead>\n",
       "    <tr style=\"text-align: right;\">\n",
       "      <th></th>\n",
       "      <th>name</th>\n",
       "      <th>population</th>\n",
       "      <th>cp</th>\n",
       "    </tr>\n",
       "  </thead>\n",
       "  <tbody>\n",
       "    <tr>\n",
       "      <th>0</th>\n",
       "      <td>Toulouse</td>\n",
       "      <td>470000</td>\n",
       "      <td>31000</td>\n",
       "    </tr>\n",
       "    <tr>\n",
       "      <th>1</th>\n",
       "      <td>Pau</td>\n",
       "      <td>77000</td>\n",
       "      <td>64000</td>\n",
       "    </tr>\n",
       "  </tbody>\n",
       "</table>\n",
       "</div>"
      ],
      "text/plain": [
       "       name  population     cp\n",
       "0  Toulouse      470000  31000\n",
       "1       Pau       77000  64000"
      ]
     },
     "execution_count": 65,
     "metadata": {},
     "output_type": "execute_result"
    }
   ],
   "source": [
    "df1 = pd.DataFrame([\n",
    "        ['Toulouse', 470000, '31000'],\n",
    "        ['Pau', 77000, '64000'],\n",
    "    ], columns=['name', 'population', 'cp'] )\n",
    "df1"
   ]
  },
  {
   "cell_type": "code",
   "execution_count": 64,
   "id": "2e93aa54-bce2-4bdb-a1a9-177f3fefac12",
   "metadata": {},
   "outputs": [
    {
     "data": {
      "text/html": [
       "<div>\n",
       "<style scoped>\n",
       "    .dataframe tbody tr th:only-of-type {\n",
       "        vertical-align: middle;\n",
       "    }\n",
       "\n",
       "    .dataframe tbody tr th {\n",
       "        vertical-align: top;\n",
       "    }\n",
       "\n",
       "    .dataframe thead th {\n",
       "        text-align: right;\n",
       "    }\n",
       "</style>\n",
       "<table border=\"1\" class=\"dataframe\">\n",
       "  <thead>\n",
       "    <tr style=\"text-align: right;\">\n",
       "      <th></th>\n",
       "      <th>name</th>\n",
       "      <th>population</th>\n",
       "      <th>cp</th>\n",
       "    </tr>\n",
       "  </thead>\n",
       "  <tbody>\n",
       "    <tr>\n",
       "      <th>0</th>\n",
       "      <td>Toulouse</td>\n",
       "      <td>470000</td>\n",
       "      <td>31000</td>\n",
       "    </tr>\n",
       "    <tr>\n",
       "      <th>1</th>\n",
       "      <td>Pau</td>\n",
       "      <td>77000</td>\n",
       "      <td>64000</td>\n",
       "    </tr>\n",
       "  </tbody>\n",
       "</table>\n",
       "</div>"
      ],
      "text/plain": [
       "       name  population     cp\n",
       "0  Toulouse      470000  31000\n",
       "1       Pau       77000  64000"
      ]
     },
     "execution_count": 64,
     "metadata": {},
     "output_type": "execute_result"
    }
   ],
   "source": [
    "df2 = pd.DataFrame([\n",
    "        {'name':'Toulouse', 'population':470000, 'cp':'31000'},\n",
    "        {'name':'Pau', 'population':77000, 'cp':'64000'},\n",
    "    ])\n",
    "df2"
   ]
  },
  {
   "cell_type": "markdown",
   "id": "85f63908-2590-4220-997e-f04ec2c67543",
   "metadata": {},
   "source": [
    "#### Let's do it"
   ]
  },
  {
   "cell_type": "code",
   "execution_count": 96,
   "id": "3cae4afd-17a3-4983-a5a0-9f13cee033bb",
   "metadata": {
    "collapsed": true,
    "jupyter": {
     "outputs_hidden": true
    },
    "tags": []
   },
   "outputs": [
    {
     "data": {
      "text/plain": [
       "[['basics.py', 813, datetime.datetime(2022, 11, 28, 11, 39, 41, 290874)],\n",
       " ['compute_builtins.py',\n",
       "  1963,\n",
       "  datetime.datetime(2022, 11, 29, 12, 14, 44, 693334)],\n",
       " ['control_flow.py', 1973, datetime.datetime(2022, 11, 28, 17, 2, 56, 251832)],\n",
       " ['demo_files.py', 912, datetime.datetime(2022, 11, 30, 14, 6, 3, 701634)],\n",
       " ['demo_slices.py', 2080, datetime.datetime(2022, 11, 29, 10, 40, 0, 351969)],\n",
       " ['euclide.py', 89, datetime.datetime(2022, 11, 28, 16, 37, 47, 392154)],\n",
       " ['euclideOrganigram.py',\n",
       "  179,\n",
       "  datetime.datetime(2022, 11, 28, 15, 40, 31, 589031)],\n",
       " ['euclideOrigin.py',\n",
       "  211,\n",
       "  datetime.datetime(2022, 11, 28, 15, 45, 13, 297868)],\n",
       " ['scientific_demo.py',\n",
       "  338,\n",
       "  datetime.datetime(2022, 11, 28, 17, 9, 53, 943421)],\n",
       " ['test_euclide.py', 376, datetime.datetime(2022, 11, 28, 15, 56, 1, 829551)],\n",
       " ['test_euclide2.py',\n",
       "  205,\n",
       "  datetime.datetime(2022, 11, 28, 16, 36, 15, 987198)],\n",
       " ['magicsquare.py', 2133, datetime.datetime(2022, 11, 29, 17, 11, 15, 772560)],\n",
       " ['test_magicsquare.py',\n",
       "  2592,\n",
       "  datetime.datetime(2022, 11, 29, 17, 4, 11, 702085)]]"
      ]
     },
     "execution_count": 96,
     "metadata": {},
     "output_type": "execute_result"
    }
   ],
   "source": [
    "d = Path('.')\n",
    "file_list = []\n",
    "for f in d.glob('**/*.py'):\n",
    "    # print(f.name)\n",
    "    file_list.append([\n",
    "            f.name, \n",
    "            f.stat().st_size, \n",
    "            datetime.fromtimestamp(f.stat().st_mtime)])\n",
    "file_list"
   ]
  },
  {
   "cell_type": "code",
   "execution_count": 95,
   "id": "c83e2a2d-5ee0-4dab-a9c0-53e2d118cd81",
   "metadata": {
    "tags": []
   },
   "outputs": [
    {
     "data": {
      "text/html": [
       "<div>\n",
       "<style scoped>\n",
       "    .dataframe tbody tr th:only-of-type {\n",
       "        vertical-align: middle;\n",
       "    }\n",
       "\n",
       "    .dataframe tbody tr th {\n",
       "        vertical-align: top;\n",
       "    }\n",
       "\n",
       "    .dataframe thead th {\n",
       "        text-align: right;\n",
       "    }\n",
       "</style>\n",
       "<table border=\"1\" class=\"dataframe\">\n",
       "  <thead>\n",
       "    <tr style=\"text-align: right;\">\n",
       "      <th></th>\n",
       "      <th>name</th>\n",
       "      <th>size</th>\n",
       "      <th>last_modified</th>\n",
       "    </tr>\n",
       "  </thead>\n",
       "  <tbody>\n",
       "    <tr>\n",
       "      <th>0</th>\n",
       "      <td>basics.py</td>\n",
       "      <td>813</td>\n",
       "      <td>2022-11-28 11:39:41.290874</td>\n",
       "    </tr>\n",
       "    <tr>\n",
       "      <th>1</th>\n",
       "      <td>compute_builtins.py</td>\n",
       "      <td>1963</td>\n",
       "      <td>2022-11-29 12:14:44.693334</td>\n",
       "    </tr>\n",
       "    <tr>\n",
       "      <th>2</th>\n",
       "      <td>control_flow.py</td>\n",
       "      <td>1973</td>\n",
       "      <td>2022-11-28 17:02:56.251832</td>\n",
       "    </tr>\n",
       "    <tr>\n",
       "      <th>3</th>\n",
       "      <td>demo_files.py</td>\n",
       "      <td>912</td>\n",
       "      <td>2022-11-30 14:06:03.701634</td>\n",
       "    </tr>\n",
       "    <tr>\n",
       "      <th>4</th>\n",
       "      <td>demo_slices.py</td>\n",
       "      <td>2080</td>\n",
       "      <td>2022-11-29 10:40:00.351969</td>\n",
       "    </tr>\n",
       "    <tr>\n",
       "      <th>5</th>\n",
       "      <td>euclide.py</td>\n",
       "      <td>89</td>\n",
       "      <td>2022-11-28 16:37:47.392154</td>\n",
       "    </tr>\n",
       "    <tr>\n",
       "      <th>6</th>\n",
       "      <td>euclideOrganigram.py</td>\n",
       "      <td>179</td>\n",
       "      <td>2022-11-28 15:40:31.589031</td>\n",
       "    </tr>\n",
       "    <tr>\n",
       "      <th>7</th>\n",
       "      <td>euclideOrigin.py</td>\n",
       "      <td>211</td>\n",
       "      <td>2022-11-28 15:45:13.297868</td>\n",
       "    </tr>\n",
       "    <tr>\n",
       "      <th>8</th>\n",
       "      <td>scientific_demo.py</td>\n",
       "      <td>338</td>\n",
       "      <td>2022-11-28 17:09:53.943421</td>\n",
       "    </tr>\n",
       "    <tr>\n",
       "      <th>9</th>\n",
       "      <td>test_euclide.py</td>\n",
       "      <td>376</td>\n",
       "      <td>2022-11-28 15:56:01.829551</td>\n",
       "    </tr>\n",
       "    <tr>\n",
       "      <th>10</th>\n",
       "      <td>test_euclide2.py</td>\n",
       "      <td>205</td>\n",
       "      <td>2022-11-28 16:36:15.987198</td>\n",
       "    </tr>\n",
       "    <tr>\n",
       "      <th>11</th>\n",
       "      <td>magicsquare.py</td>\n",
       "      <td>2133</td>\n",
       "      <td>2022-11-29 17:11:15.772560</td>\n",
       "    </tr>\n",
       "    <tr>\n",
       "      <th>12</th>\n",
       "      <td>test_magicsquare.py</td>\n",
       "      <td>2592</td>\n",
       "      <td>2022-11-29 17:04:11.702085</td>\n",
       "    </tr>\n",
       "  </tbody>\n",
       "</table>\n",
       "</div>"
      ],
      "text/plain": [
       "                    name  size              last_modified\n",
       "0              basics.py   813 2022-11-28 11:39:41.290874\n",
       "1    compute_builtins.py  1963 2022-11-29 12:14:44.693334\n",
       "2        control_flow.py  1973 2022-11-28 17:02:56.251832\n",
       "3          demo_files.py   912 2022-11-30 14:06:03.701634\n",
       "4         demo_slices.py  2080 2022-11-29 10:40:00.351969\n",
       "5             euclide.py    89 2022-11-28 16:37:47.392154\n",
       "6   euclideOrganigram.py   179 2022-11-28 15:40:31.589031\n",
       "7       euclideOrigin.py   211 2022-11-28 15:45:13.297868\n",
       "8     scientific_demo.py   338 2022-11-28 17:09:53.943421\n",
       "9        test_euclide.py   376 2022-11-28 15:56:01.829551\n",
       "10      test_euclide2.py   205 2022-11-28 16:36:15.987198\n",
       "11        magicsquare.py  2133 2022-11-29 17:11:15.772560\n",
       "12   test_magicsquare.py  2592 2022-11-29 17:04:11.702085"
      ]
     },
     "execution_count": 95,
     "metadata": {},
     "output_type": "execute_result"
    }
   ],
   "source": [
    "dfFiles = pd.DataFrame(file_list, columns=['name', 'size', 'last_modified'])\n",
    "dfFiles"
   ]
  },
  {
   "cell_type": "code",
   "execution_count": 80,
   "id": "571668c2-fbc1-4e1d-8040-9862c367d614",
   "metadata": {
    "tags": []
   },
   "outputs": [
    {
     "data": {
      "text/plain": [
       "[{'name': 'basics.py',\n",
       "  'size': 813,\n",
       "  'last_modified': datetime.datetime(2022, 11, 28, 11, 39, 41, 290874),\n",
       "  'fullpath': WindowsPath('C:/Users/Matthias/Documents/Formations/Python/Stage20221128/basics.py')},\n",
       " {'name': 'compute_builtins.py',\n",
       "  'size': 1963,\n",
       "  'last_modified': datetime.datetime(2022, 11, 29, 12, 14, 44, 693334),\n",
       "  'fullpath': WindowsPath('C:/Users/Matthias/Documents/Formations/Python/Stage20221128/compute_builtins.py')},\n",
       " {'name': 'control_flow.py',\n",
       "  'size': 1973,\n",
       "  'last_modified': datetime.datetime(2022, 11, 28, 17, 2, 56, 251832),\n",
       "  'fullpath': WindowsPath('C:/Users/Matthias/Documents/Formations/Python/Stage20221128/control_flow.py')},\n",
       " {'name': 'demo_files.py',\n",
       "  'size': 912,\n",
       "  'last_modified': datetime.datetime(2022, 11, 30, 14, 6, 3, 701634),\n",
       "  'fullpath': WindowsPath('C:/Users/Matthias/Documents/Formations/Python/Stage20221128/demo_files.py')},\n",
       " {'name': 'demo_slices.py',\n",
       "  'size': 2080,\n",
       "  'last_modified': datetime.datetime(2022, 11, 29, 10, 40, 0, 351969),\n",
       "  'fullpath': WindowsPath('C:/Users/Matthias/Documents/Formations/Python/Stage20221128/demo_slices.py')},\n",
       " {'name': 'euclide.py',\n",
       "  'size': 89,\n",
       "  'last_modified': datetime.datetime(2022, 11, 28, 16, 37, 47, 392154),\n",
       "  'fullpath': WindowsPath('C:/Users/Matthias/Documents/Formations/Python/Stage20221128/euclide.py')},\n",
       " {'name': 'euclideOrganigram.py',\n",
       "  'size': 179,\n",
       "  'last_modified': datetime.datetime(2022, 11, 28, 15, 40, 31, 589031),\n",
       "  'fullpath': WindowsPath('C:/Users/Matthias/Documents/Formations/Python/Stage20221128/euclideOrganigram.py')},\n",
       " {'name': 'euclideOrigin.py',\n",
       "  'size': 211,\n",
       "  'last_modified': datetime.datetime(2022, 11, 28, 15, 45, 13, 297868),\n",
       "  'fullpath': WindowsPath('C:/Users/Matthias/Documents/Formations/Python/Stage20221128/euclideOrigin.py')},\n",
       " {'name': 'scientific_demo.py',\n",
       "  'size': 338,\n",
       "  'last_modified': datetime.datetime(2022, 11, 28, 17, 9, 53, 943421),\n",
       "  'fullpath': WindowsPath('C:/Users/Matthias/Documents/Formations/Python/Stage20221128/scientific_demo.py')},\n",
       " {'name': 'test_euclide.py',\n",
       "  'size': 376,\n",
       "  'last_modified': datetime.datetime(2022, 11, 28, 15, 56, 1, 829551),\n",
       "  'fullpath': WindowsPath('C:/Users/Matthias/Documents/Formations/Python/Stage20221128/test_euclide.py')},\n",
       " {'name': 'test_euclide2.py',\n",
       "  'size': 205,\n",
       "  'last_modified': datetime.datetime(2022, 11, 28, 16, 36, 15, 987198),\n",
       "  'fullpath': WindowsPath('C:/Users/Matthias/Documents/Formations/Python/Stage20221128/test_euclide2.py')},\n",
       " {'name': 'magicsquare.py',\n",
       "  'size': 2133,\n",
       "  'last_modified': datetime.datetime(2022, 11, 29, 17, 11, 15, 772560),\n",
       "  'fullpath': WindowsPath('C:/Users/Matthias/Documents/Formations/Python/Stage20221128/squaremagic/magicsquare.py')},\n",
       " {'name': 'test_magicsquare.py',\n",
       "  'size': 2592,\n",
       "  'last_modified': datetime.datetime(2022, 11, 29, 17, 4, 11, 702085),\n",
       "  'fullpath': WindowsPath('C:/Users/Matthias/Documents/Formations/Python/Stage20221128/squaremagic/test_magicsquare.py')},\n",
       " {'name': 'cafeConcerts.ipynb',\n",
       "  'size': 91247,\n",
       "  'last_modified': datetime.datetime(2022, 11, 30, 13, 51, 29, 549377),\n",
       "  'fullpath': WindowsPath('C:/Users/Matthias/Documents/Formations/Python/Stage20221128/cafeConcerts.ipynb')},\n",
       " {'name': 'demoPath.ipynb',\n",
       "  'size': 27594,\n",
       "  'last_modified': datetime.datetime(2022, 11, 30, 16, 26, 4, 578782),\n",
       "  'fullpath': WindowsPath('C:/Users/Matthias/Documents/Formations/Python/Stage20221128/demoPath.ipynb')},\n",
       " {'name': 'cafeConcerts-checkpoint.ipynb',\n",
       "  'size': 91838,\n",
       "  'last_modified': datetime.datetime(2022, 11, 30, 13, 13, 39, 543277),\n",
       "  'fullpath': WindowsPath('C:/Users/Matthias/Documents/Formations/Python/Stage20221128/.ipynb_checkpoints/cafeConcerts-checkpoint.ipynb')},\n",
       " {'name': 'demoPath-checkpoint.ipynb',\n",
       "  'size': 72,\n",
       "  'last_modified': datetime.datetime(2022, 11, 30, 14, 8, 51, 586836),\n",
       "  'fullpath': WindowsPath('C:/Users/Matthias/Documents/Formations/Python/Stage20221128/.ipynb_checkpoints/demoPath-checkpoint.ipynb')}]"
      ]
     },
     "execution_count": 80,
     "metadata": {},
     "output_type": "execute_result"
    }
   ],
   "source": [
    "data = [{ \n",
    "        'name': f.name, \n",
    "        'size': f.stat().st_size, \n",
    "        'last_modified': datetime.fromtimestamp(f.stat().st_mtime),\n",
    "        'fullpath': f.absolute()\n",
    "    } for f in it.chain(\n",
    "        d.glob('**/*.py'),\n",
    "        d.glob('**/*.ipynb'),\n",
    ")]\n",
    "data"
   ]
  },
  {
   "cell_type": "code",
   "execution_count": 75,
   "id": "ee3f4386-44b0-44ef-a575-99492ad94c1d",
   "metadata": {
    "jupyter": {
     "source_hidden": true
    },
    "tags": []
   },
   "outputs": [
    {
     "data": {
      "text/html": [
       "<div>\n",
       "<style scoped>\n",
       "    .dataframe tbody tr th:only-of-type {\n",
       "        vertical-align: middle;\n",
       "    }\n",
       "\n",
       "    .dataframe tbody tr th {\n",
       "        vertical-align: top;\n",
       "    }\n",
       "\n",
       "    .dataframe thead th {\n",
       "        text-align: right;\n",
       "    }\n",
       "</style>\n",
       "<table border=\"1\" class=\"dataframe\">\n",
       "  <thead>\n",
       "    <tr style=\"text-align: right;\">\n",
       "      <th></th>\n",
       "      <th>name</th>\n",
       "      <th>size</th>\n",
       "      <th>last_modified</th>\n",
       "      <th>fullpath</th>\n",
       "    </tr>\n",
       "  </thead>\n",
       "  <tbody>\n",
       "    <tr>\n",
       "      <th>0</th>\n",
       "      <td>basics.py</td>\n",
       "      <td>813</td>\n",
       "      <td>2022-11-28 11:39:41.290874</td>\n",
       "      <td>C:\\Users\\Matthias\\Documents\\Formations\\Python\\...</td>\n",
       "    </tr>\n",
       "    <tr>\n",
       "      <th>1</th>\n",
       "      <td>compute_builtins.py</td>\n",
       "      <td>1963</td>\n",
       "      <td>2022-11-29 12:14:44.693334</td>\n",
       "      <td>C:\\Users\\Matthias\\Documents\\Formations\\Python\\...</td>\n",
       "    </tr>\n",
       "    <tr>\n",
       "      <th>2</th>\n",
       "      <td>control_flow.py</td>\n",
       "      <td>1973</td>\n",
       "      <td>2022-11-28 17:02:56.251832</td>\n",
       "      <td>C:\\Users\\Matthias\\Documents\\Formations\\Python\\...</td>\n",
       "    </tr>\n",
       "    <tr>\n",
       "      <th>3</th>\n",
       "      <td>demo_files.py</td>\n",
       "      <td>912</td>\n",
       "      <td>2022-11-30 14:06:03.701634</td>\n",
       "      <td>C:\\Users\\Matthias\\Documents\\Formations\\Python\\...</td>\n",
       "    </tr>\n",
       "    <tr>\n",
       "      <th>4</th>\n",
       "      <td>demo_slices.py</td>\n",
       "      <td>2080</td>\n",
       "      <td>2022-11-29 10:40:00.351969</td>\n",
       "      <td>C:\\Users\\Matthias\\Documents\\Formations\\Python\\...</td>\n",
       "    </tr>\n",
       "    <tr>\n",
       "      <th>5</th>\n",
       "      <td>euclide.py</td>\n",
       "      <td>89</td>\n",
       "      <td>2022-11-28 16:37:47.392154</td>\n",
       "      <td>C:\\Users\\Matthias\\Documents\\Formations\\Python\\...</td>\n",
       "    </tr>\n",
       "    <tr>\n",
       "      <th>6</th>\n",
       "      <td>euclideOrganigram.py</td>\n",
       "      <td>179</td>\n",
       "      <td>2022-11-28 15:40:31.589031</td>\n",
       "      <td>C:\\Users\\Matthias\\Documents\\Formations\\Python\\...</td>\n",
       "    </tr>\n",
       "    <tr>\n",
       "      <th>7</th>\n",
       "      <td>euclideOrigin.py</td>\n",
       "      <td>211</td>\n",
       "      <td>2022-11-28 15:45:13.297868</td>\n",
       "      <td>C:\\Users\\Matthias\\Documents\\Formations\\Python\\...</td>\n",
       "    </tr>\n",
       "    <tr>\n",
       "      <th>8</th>\n",
       "      <td>scientific_demo.py</td>\n",
       "      <td>338</td>\n",
       "      <td>2022-11-28 17:09:53.943421</td>\n",
       "      <td>C:\\Users\\Matthias\\Documents\\Formations\\Python\\...</td>\n",
       "    </tr>\n",
       "    <tr>\n",
       "      <th>9</th>\n",
       "      <td>test_euclide.py</td>\n",
       "      <td>376</td>\n",
       "      <td>2022-11-28 15:56:01.829551</td>\n",
       "      <td>C:\\Users\\Matthias\\Documents\\Formations\\Python\\...</td>\n",
       "    </tr>\n",
       "    <tr>\n",
       "      <th>10</th>\n",
       "      <td>test_euclide2.py</td>\n",
       "      <td>205</td>\n",
       "      <td>2022-11-28 16:36:15.987198</td>\n",
       "      <td>C:\\Users\\Matthias\\Documents\\Formations\\Python\\...</td>\n",
       "    </tr>\n",
       "    <tr>\n",
       "      <th>11</th>\n",
       "      <td>magicsquare.py</td>\n",
       "      <td>2133</td>\n",
       "      <td>2022-11-29 17:11:15.772560</td>\n",
       "      <td>C:\\Users\\Matthias\\Documents\\Formations\\Python\\...</td>\n",
       "    </tr>\n",
       "    <tr>\n",
       "      <th>12</th>\n",
       "      <td>test_magicsquare.py</td>\n",
       "      <td>2592</td>\n",
       "      <td>2022-11-29 17:04:11.702085</td>\n",
       "      <td>C:\\Users\\Matthias\\Documents\\Formations\\Python\\...</td>\n",
       "    </tr>\n",
       "    <tr>\n",
       "      <th>13</th>\n",
       "      <td>cafeConcerts.ipynb</td>\n",
       "      <td>91247</td>\n",
       "      <td>2022-11-30 13:51:29.549377</td>\n",
       "      <td>C:\\Users\\Matthias\\Documents\\Formations\\Python\\...</td>\n",
       "    </tr>\n",
       "    <tr>\n",
       "      <th>14</th>\n",
       "      <td>demoPath.ipynb</td>\n",
       "      <td>22654</td>\n",
       "      <td>2022-11-30 16:17:57.590010</td>\n",
       "      <td>C:\\Users\\Matthias\\Documents\\Formations\\Python\\...</td>\n",
       "    </tr>\n",
       "    <tr>\n",
       "      <th>15</th>\n",
       "      <td>cafeConcerts-checkpoint.ipynb</td>\n",
       "      <td>91838</td>\n",
       "      <td>2022-11-30 13:13:39.543277</td>\n",
       "      <td>C:\\Users\\Matthias\\Documents\\Formations\\Python\\...</td>\n",
       "    </tr>\n",
       "    <tr>\n",
       "      <th>16</th>\n",
       "      <td>demoPath-checkpoint.ipynb</td>\n",
       "      <td>72</td>\n",
       "      <td>2022-11-30 14:08:51.586836</td>\n",
       "      <td>C:\\Users\\Matthias\\Documents\\Formations\\Python\\...</td>\n",
       "    </tr>\n",
       "  </tbody>\n",
       "</table>\n",
       "</div>"
      ],
      "text/plain": [
       "                             name   size              last_modified  \\\n",
       "0                       basics.py    813 2022-11-28 11:39:41.290874   \n",
       "1             compute_builtins.py   1963 2022-11-29 12:14:44.693334   \n",
       "2                 control_flow.py   1973 2022-11-28 17:02:56.251832   \n",
       "3                   demo_files.py    912 2022-11-30 14:06:03.701634   \n",
       "4                  demo_slices.py   2080 2022-11-29 10:40:00.351969   \n",
       "5                      euclide.py     89 2022-11-28 16:37:47.392154   \n",
       "6            euclideOrganigram.py    179 2022-11-28 15:40:31.589031   \n",
       "7                euclideOrigin.py    211 2022-11-28 15:45:13.297868   \n",
       "8              scientific_demo.py    338 2022-11-28 17:09:53.943421   \n",
       "9                 test_euclide.py    376 2022-11-28 15:56:01.829551   \n",
       "10               test_euclide2.py    205 2022-11-28 16:36:15.987198   \n",
       "11                 magicsquare.py   2133 2022-11-29 17:11:15.772560   \n",
       "12            test_magicsquare.py   2592 2022-11-29 17:04:11.702085   \n",
       "13             cafeConcerts.ipynb  91247 2022-11-30 13:51:29.549377   \n",
       "14                 demoPath.ipynb  22654 2022-11-30 16:17:57.590010   \n",
       "15  cafeConcerts-checkpoint.ipynb  91838 2022-11-30 13:13:39.543277   \n",
       "16      demoPath-checkpoint.ipynb     72 2022-11-30 14:08:51.586836   \n",
       "\n",
       "                                             fullpath  \n",
       "0   C:\\Users\\Matthias\\Documents\\Formations\\Python\\...  \n",
       "1   C:\\Users\\Matthias\\Documents\\Formations\\Python\\...  \n",
       "2   C:\\Users\\Matthias\\Documents\\Formations\\Python\\...  \n",
       "3   C:\\Users\\Matthias\\Documents\\Formations\\Python\\...  \n",
       "4   C:\\Users\\Matthias\\Documents\\Formations\\Python\\...  \n",
       "5   C:\\Users\\Matthias\\Documents\\Formations\\Python\\...  \n",
       "6   C:\\Users\\Matthias\\Documents\\Formations\\Python\\...  \n",
       "7   C:\\Users\\Matthias\\Documents\\Formations\\Python\\...  \n",
       "8   C:\\Users\\Matthias\\Documents\\Formations\\Python\\...  \n",
       "9   C:\\Users\\Matthias\\Documents\\Formations\\Python\\...  \n",
       "10  C:\\Users\\Matthias\\Documents\\Formations\\Python\\...  \n",
       "11  C:\\Users\\Matthias\\Documents\\Formations\\Python\\...  \n",
       "12  C:\\Users\\Matthias\\Documents\\Formations\\Python\\...  \n",
       "13  C:\\Users\\Matthias\\Documents\\Formations\\Python\\...  \n",
       "14  C:\\Users\\Matthias\\Documents\\Formations\\Python\\...  \n",
       "15  C:\\Users\\Matthias\\Documents\\Formations\\Python\\...  \n",
       "16  C:\\Users\\Matthias\\Documents\\Formations\\Python\\...  "
      ]
     },
     "execution_count": 75,
     "metadata": {},
     "output_type": "execute_result"
    }
   ],
   "source": [
    "dfPythonFiles = pd.DataFrame(data)\n",
    "dfPythonFiles"
   ]
  }
 ],
 "metadata": {
  "kernelspec": {
   "display_name": "Python 3 (ipykernel)",
   "language": "python",
   "name": "python3"
  },
  "language_info": {
   "codemirror_mode": {
    "name": "ipython",
    "version": 3
   },
   "file_extension": ".py",
   "mimetype": "text/x-python",
   "name": "python",
   "nbconvert_exporter": "python",
   "pygments_lexer": "ipython3",
   "version": "3.9.12"
  }
 },
 "nbformat": 4,
 "nbformat_minor": 5
}
